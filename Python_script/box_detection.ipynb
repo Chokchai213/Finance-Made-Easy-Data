{
 "cells": [
  {
   "cell_type": "code",
   "execution_count": 8,
   "metadata": {},
   "outputs": [],
   "source": [
    "import fitz\n",
    "file_path = \"./tmp/tmp.pdf\"\n",
    "dpi = 300  # choose desired dpi here\n",
    "zoom = dpi / 72  # zoom factor, standard: 72 dpi\n",
    "magnify = fitz.Matrix(zoom, zoom)  # magnifies in x, resp. y direction\n",
    "doc = fitz.open(file_path)  # open document\n",
    "for page in doc:\n",
    "    pix = page.get_pixmap(matrix=magnify)  # render page to an image\n",
    "    pix.save(f\"page-{page.number}.png\")"
   ]
  },
  {
   "cell_type": "code",
   "execution_count": 33,
   "metadata": {},
   "outputs": [],
   "source": [
    "from PIL import Image \n",
    "\n",
    "img = Image.open(r\"C:\\Users\\wasin\\Documents\\taro\\Finance-Made-Easy-Data\\Python_script\\page-0.png\") \n",
    "\n",
    "\n",
    "left = 1545\n",
    "top = 700\n",
    "right = 2205\n",
    "bottom = 770\n",
    "\n",
    "  \n",
    "img_res = img.crop((left, top, right, bottom)) \n",
    "\n",
    "\n",
    "img_res.show()\n",
    "img_res.save('tmp.png')"
   ]
  }
 ],
 "metadata": {
  "kernelspec": {
   "display_name": ".venv",
   "language": "python",
   "name": "python3"
  },
  "language_info": {
   "codemirror_mode": {
    "name": "ipython",
    "version": 3
   },
   "file_extension": ".py",
   "mimetype": "text/x-python",
   "name": "python",
   "nbconvert_exporter": "python",
   "pygments_lexer": "ipython3",
   "version": "3.12.1"
  }
 },
 "nbformat": 4,
 "nbformat_minor": 2
}
