{
 "cells": [
  {
   "cell_type": "code",
   "execution_count": null,
   "metadata": {},
   "outputs": [],
   "source": [
    "import requests\n",
    "import json\n",
    "import pandas as pd\n",
    "import os\n",
    "import dotenv\n",
    "import time\n",
    "import base64\n",
    "dotenv.load_dotenv()\n",
    "FDAPI = os.environ[\"FUND_DAILY_API_KEY\"]\n",
    "FFAPI = os.environ[\"FUND_FACT_API_KEY\"]\n",
    "FundDailyKey = {\n",
    "    'Ocp-Apim-Subscription-Key': FDAPI\n",
    "}\n",
    "FundFactKey = {\n",
    "    'Ocp-Apim-Subscription-Key': FFAPI\n",
    "}"
   ]
  },
  {
   "cell_type": "code",
   "execution_count": null,
   "metadata": {},
   "outputs": [],
   "source": [
    "project_type_keys = ['proj_retail_type', 'proj_term_flag', 'proj_term_dd', 'proj_term_mm','proj_term_yy']\n",
    "specification_keys = ['spec_code', 'spec_desc']\n",
    "suitability_keys = ['risk_spectrum', 'risk_spectrum_desc','fund_suitable_desc']"
   ]
  },
  {
   "cell_type": "code",
   "execution_count": null,
   "metadata": {},
   "outputs": [],
   "source": [
    "def FundFactAPIGet(url, proj_unique_id, type, key):\n",
    "    if type == 'amc':\n",
    "        response = requests.get(url+proj_unique_id,headers=key)\n",
    "        if response.status_code == 200:\n",
    "            return json.loads(response.text)\n",
    "    elif type in ['project_type', 'specification', 'suitability']:\n",
    "        response = requests.get(url + proj_unique_id + '/' + type, headers=key)\n",
    "        if response.status_code == 200:\n",
    "            return {'json': json.loads(response.text), 'status_code': response.status_code}\n",
    "        else:\n",
    "            dummy_json = {key: None for key in project_type_keys} if type == 'project_type' else ({key: None for key in specification_keys} if type == 'specification' else {key: None for key in suitability_keys})\n",
    "            return {'json': dummy_json, 'status_code': response.status_code}"
   ]
  },
  {
   "cell_type": "code",
   "execution_count": null,
   "metadata": {},
   "outputs": [],
   "source": [
    "scb_funds = pd.DataFrame(FundFactAPIGet('https://api.sec.or.th/FundFactsheet/fund/amc/','C0000000239','amc',FundFactKey))\n",
    "scb_funds"
   ]
  },
  {
   "cell_type": "code",
   "execution_count": null,
   "metadata": {},
   "outputs": [],
   "source": [
    "scb_funds = scb_funds.drop(columns=['last_upd_date'])\n",
    "scb_funds = scb_funds[scb_funds['fund_status'] == 'RG']\n",
    "scb_funds = scb_funds.reset_index(drop=True)"
   ]
  },
  {
   "cell_type": "code",
   "execution_count": null,
   "metadata": {},
   "outputs": [],
   "source": [
    "scb_funds"
   ]
  },
  {
   "cell_type": "code",
   "execution_count": null,
   "metadata": {},
   "outputs": [],
   "source": [
    "project_type_keys = ['proj_retail_type', 'proj_term_flag', 'proj_term_dd', 'proj_term_mm','proj_term_yy']\n",
    "specification_keys = ['spec_code', 'spec_desc']\n",
    "suitability_keys = ['risk_spectrum', 'risk_spectrum_desc','fund_suitable_desc']"
   ]
  },
  {
   "cell_type": "code",
   "execution_count": null,
   "metadata": {},
   "outputs": [],
   "source": [
    "for index,row in scb_funds.iterrows():\n",
    "    try:\n",
    "        response = FundFactAPIGet('https://api.sec.or.th/FundFactsheet/fund/',str(row['proj_id']),'project_type',FundFactKey)\n",
    "        scb_funds.at[index, 'proj_retail_type'] = response['json']['proj_retail_type']\n",
    "        scb_funds.at[index, 'proj_term_flag'] = response['json']['proj_term_flag']\n",
    "        scb_funds.at[index, 'proj_term_dd'] = response['json']['proj_term_dd']\n",
    "        scb_funds.at[index, 'proj_term_mm'] = response['json']['proj_term_mm']\n",
    "        scb_funds.at[index, 'proj_term_yy'] = response['json']['proj_term_yy']\n",
    "    except Exception as e:\n",
    "        pass\n",
    "    try:\n",
    "        response = FundFactAPIGet('https://api.sec.or.th/FundFactsheet/fund/',str(row['proj_id']),'specification',FundFactKey)\n",
    "        scb_funds.at[index, 'spec_code'] =  ','.join(sub_res['spec_code'] for sub_res in response['json'])\n",
    "        scb_funds.at[index, 'spec_desc'] =  ','.join(sub_res['spec_desc'] for sub_res in response['json']) \n",
    "    except Exception as e:\n",
    "        pass\n",
    "    try:\n",
    "        response = FundFactAPIGet('https://api.sec.or.th/FundFactsheet/fund/',str(row['proj_id']),'suitability',FundFactKey)\n",
    "        scb_funds.at[index, 'risk_spectrum'] = response['json']['risk_spectrum']\n",
    "        try:\n",
    "            scb_funds.at[index, 'risk_spectrum_desc'] = base64.b64decode(response['json']['risk_spectrum_desc']).decode('utf-8')\n",
    "        except Exception as e:\n",
    "            scb_funds.at[index, 'risk_spectrum_desc'] = None\n",
    "        try:\n",
    "            scb_funds.at[index, 'fund_suitable_desc'] = base64.b64decode(response['json']['fund_suitable_desc']).decode('utf-8')\n",
    "        except Exception as e:\n",
    "            scb_funds.at[index, 'fund_suitable_desc'] = None\n",
    "    except Exception as e:\n",
    "        pass\n",
    "    time.sleep(0.1)"
   ]
  },
  {
   "cell_type": "code",
   "execution_count": null,
   "metadata": {},
   "outputs": [],
   "source": [
    "scb_funds"
   ]
  },
  {
   "cell_type": "code",
   "execution_count": null,
   "metadata": {},
   "outputs": [],
   "source": [
    "scb_funds.to_csv('../Result_amc/SCB/scb_funds.csv', encoding='utf8')"
   ]
  },
  {
   "cell_type": "code",
   "execution_count": null,
   "metadata": {},
   "outputs": [],
   "source": [
    "scb_funds['spec_code'].value_counts()"
   ]
  },
  {
   "cell_type": "code",
   "execution_count": null,
   "metadata": {},
   "outputs": [],
   "source": []
  }
 ],
 "metadata": {
  "kernelspec": {
   "display_name": "Python 3",
   "language": "python",
   "name": "python3"
  },
  "language_info": {
   "codemirror_mode": {
    "name": "ipython",
    "version": 3
   },
   "file_extension": ".py",
   "mimetype": "text/x-python",
   "name": "python",
   "nbconvert_exporter": "python",
   "pygments_lexer": "ipython3",
   "version": "3.11.1"
  }
 },
 "nbformat": 4,
 "nbformat_minor": 2
}
