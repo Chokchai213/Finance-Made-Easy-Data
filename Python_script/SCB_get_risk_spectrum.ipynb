{
 "cells": [
  {
   "cell_type": "code",
   "execution_count": null,
   "metadata": {},
   "outputs": [],
   "source": [
    "import requests\n",
    "import json\n",
    "import pandas as pd\n",
    "import os\n",
    "import dotenv\n",
    "import pdfbox\n",
    "import re\n",
    "from IPython.display import clear_output\n",
    "dotenv.load_dotenv()\n",
    "FDAPI = os.environ[\"FUND_DAILY_API_KEY\"]\n",
    "FFAPI = os.environ[\"FUND_FACT_API_KEY\"]\n",
    "global FundDailyKey\n",
    "FundDailyKey= {\n",
    "    'Ocp-Apim-Subscription-Key': FDAPI\n",
    "}\n",
    "global FundFactKey\n",
    "FundFactKey = {\n",
    "    'Ocp-Apim-Subscription-Key': FFAPI\n",
    "}\n",
    "project_type_keys = ['proj_retail_type', 'proj_term_flag', 'proj_term_dd', 'proj_term_mm','proj_term_yy']\n",
    "specification_keys = ['spec_code', 'spec_desc']\n",
    "suitability_keys = ['risk_spectrum', 'risk_spectrum_desc','fund_suitable_desc']"
   ]
  },
  {
   "cell_type": "code",
   "execution_count": null,
   "metadata": {},
   "outputs": [],
   "source": [
    "def FundFactAPIGet(url, proj_unique_id, type, key):\n",
    "    if type == 'amc':\n",
    "        response = requests.get(url,headers=key)\n",
    "        if response.status_code == 200:\n",
    "            return json.loads(response.text)\n",
    "    elif type in ['project_type', 'specification', 'suitability']:\n",
    "        response = requests.get(url + proj_unique_id + '/' + type, headers=key)\n",
    "        if response.status_code == 200:\n",
    "            return {'json': json.loads(response.text), 'status_code': response.status_code}\n",
    "        else:\n",
    "            dummy_json = {key: None for key in project_type_keys} if type == 'project_type' else ({key: None for key in specification_keys} if type == 'specification' else {key: None for key in suitability_keys})\n",
    "            return {'json': dummy_json, 'status_code': response.status_code}\n",
    "    elif type in ['URLs']:\n",
    "        response = requests.get(url + proj_unique_id + '/'+ type, headers=key)\n",
    "        res_json = json.loads(response.text)\n",
    "        res_pdf = requests.get(res_json['url_factsheet'])\n",
    "        if res_pdf.status_code == 200:\n",
    "            with open(f\"tmp/tmp.pdf\", 'wb') as pdf_file:\n",
    "                    pdf_file.write(res_pdf.content)\n",
    "            return res_pdf.status_code\n",
    "        else:\n",
    "            return res_pdf.status_code"
   ]
  },
  {
   "cell_type": "code",
   "execution_count": null,
   "metadata": {},
   "outputs": [],
   "source": [
    "def readRiskFromPdf(risk_level):\n",
    "    if risk_level != 200:\n",
    "           return None\n",
    "    p = pdfbox.PDFBox()\n",
    "    if os.path.getsize(\"tmp/tmp.pdf\") < 216:\n",
    "            raise Exception(\"File not found ::\") \n",
    "    p.extract_text(f'tmp/tmp.pdf')\n",
    "    with open(f'tmp/tmp.txt', 'r',  encoding=\"utf8\") as file:\n",
    "            data = file.read()\n",
    "    match1 = re.search(r'(\\S+)\\s*:\\s*เสี่ยง', data)\n",
    "    match2 = re.search(r'(\\S+)\\s*:\\s*เสียง', data)\n",
    "    match3 = re.search(r'(\\S+)\\s*:\\s*เสยง', data)\n",
    "    if match1:\n",
    "            return match1.group(1)\n",
    "    elif match2:\n",
    "            return match2.group(1)\n",
    "    elif match3:\n",
    "            return match3.group(1)\n",
    "    else:\n",
    "            return None"
   ]
  },
  {
   "cell_type": "code",
   "execution_count": null,
   "metadata": {},
   "outputs": [],
   "source": [
    "def getPdf(row):\n",
    "    print(row['proj_id'])\n",
    "    status_code = FundFactAPIGet('https://api.sec.or.th/FundFactsheet/fund/', row['proj_id'] ,'URLs',FundFactKey)\n",
    "    risk_level = readRiskFromPdf(status_code)\n",
    "    print(risk_level)\n",
    "    return risk_level"
   ]
  },
  {
   "cell_type": "code",
   "execution_count": null,
   "metadata": {},
   "outputs": [],
   "source": [
    "df = pd.read_csv(f'../Result_amc/SCB/SCB_funds_clean.csv')\n",
    "df"
   ]
  },
  {
   "cell_type": "code",
   "execution_count": null,
   "metadata": {},
   "outputs": [],
   "source": [
    "df['risk_spectrum'] = df.apply(lambda row : getPdf(row), axis=1)"
   ]
  },
  {
   "cell_type": "code",
   "execution_count": null,
   "metadata": {},
   "outputs": [],
   "source": [
    "df['risk_spectrum'].value_counts().sum()"
   ]
  },
  {
   "cell_type": "markdown",
   "metadata": {},
   "source": [
    "# Check RMF&SSF distribution"
   ]
  },
  {
   "cell_type": "code",
   "execution_count": 45,
   "metadata": {},
   "outputs": [
    {
     "data": {
      "text/plain": [
       "spec_code\n",
       "CRF            44\n",
       "FED            28\n",
       "FED,SSF        28\n",
       "FED,RMF        18\n",
       "FF,SSF         13\n",
       "SSF            11\n",
       "FF              8\n",
       "LTF,SSF         6\n",
       "RMF             4\n",
       "FED,SE,SSF      3\n",
       "FF,RMF          3\n",
       "FED,SE          2\n",
       "IND,SSF         2\n",
       "IND,SE          2\n",
       "TESG            2\n",
       "FED,RMF,SE      2\n",
       "MM              2\n",
       "IND,RMF         1\n",
       "FF,SE,SSF       1\n",
       "IND,LTF,SSF     1\n",
       "LTF             1\n",
       "SPF             1\n",
       "IND             1\n",
       "IND,TESG        1\n",
       "Name: count, dtype: int64"
      ]
     },
     "execution_count": 45,
     "metadata": {},
     "output_type": "execute_result"
    }
   ],
   "source": [
    "dropna_df = df[df['spec_code'].notna()]\n",
    "dropna_df['spec_code'].value_counts()"
   ]
  },
  {
   "cell_type": "code",
   "execution_count": 43,
   "metadata": {},
   "outputs": [
    {
     "name": "stdout",
     "output_type": "stream",
     "text": [
      "spec_code\n",
      "FED,RMF       18\n",
      "RMF            4\n",
      "FF,RMF         3\n",
      "FED,RMF,SE     2\n",
      "IND,RMF        1\n",
      "Name: count, dtype: int64\n",
      "risk_spectrum\n",
      "6    19\n",
      "5     3\n",
      "4     2\n",
      "7     2\n",
      "Name: count, dtype: int64\n"
     ]
    }
   ],
   "source": [
    "rmf_df = dropna_df[dropna_df['spec_code'].str.contains('RMF')].reset_index()\n",
    "print(rmf_df['spec_code'].value_counts())\n",
    "print(rmf_df['risk_spectrum'].value_counts())"
   ]
  },
  {
   "cell_type": "code",
   "execution_count": 46,
   "metadata": {},
   "outputs": [
    {
     "name": "stdout",
     "output_type": "stream",
     "text": [
      "spec_code\n",
      "FED,SSF        28\n",
      "FF,SSF         13\n",
      "SSF            11\n",
      "LTF,SSF         6\n",
      "FED,SE,SSF      3\n",
      "IND,SSF         2\n",
      "FF,SE,SSF       1\n",
      "IND,LTF,SSF     1\n",
      "Name: count, dtype: int64\n",
      "risk_spectrum\n",
      "6    45\n",
      "5     9\n",
      "4     5\n",
      "7     4\n",
      "Name: count, dtype: int64\n"
     ]
    }
   ],
   "source": [
    "ssf_df = dropna_df[dropna_df['spec_code'].str.contains('SSF')].reset_index()\n",
    "print(ssf_df['spec_code'].value_counts())\n",
    "print(ssf_df['risk_spectrum'].value_counts())"
   ]
  }
 ],
 "metadata": {
  "kernelspec": {
   "display_name": "Python 3",
   "language": "python",
   "name": "python3"
  },
  "language_info": {
   "codemirror_mode": {
    "name": "ipython",
    "version": 3
   },
   "file_extension": ".py",
   "mimetype": "text/x-python",
   "name": "python",
   "nbconvert_exporter": "python",
   "pygments_lexer": "ipython3",
   "version": "3.12.1"
  }
 },
 "nbformat": 4,
 "nbformat_minor": 2
}
