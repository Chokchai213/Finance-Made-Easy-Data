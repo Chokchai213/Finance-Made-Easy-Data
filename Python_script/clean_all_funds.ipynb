{
 "cells": [
  {
   "cell_type": "code",
   "execution_count": 1,
   "metadata": {},
   "outputs": [],
   "source": [
    "import requests\n",
    "import json\n",
    "import pandas as pd\n",
    "import os\n",
    "import dotenv\n",
    "dotenv.load_dotenv()\n",
    "FDAPI = os.environ[\"FUND_DAILY_API_KEY\"]\n",
    "FFAPI = os.environ[\"FUND_FACT_API_KEY\"]\n",
    "FundDailyKey = {\n",
    "    'Ocp-Apim-Subscription-Key': FDAPI\n",
    "}\n",
    "FundFactKey = {\n",
    "    'Ocp-Apim-Subscription-Key': FFAPI\n",
    "}\n",
    "project_type_keys = ['proj_retail_type', 'proj_term_flag', 'proj_term_dd', 'proj_term_mm','proj_term_yy']\n",
    "specification_keys = ['spec_code', 'spec_desc']\n",
    "suitability_keys = ['risk_spectrum', 'risk_spectrum_desc','fund_suitable_desc']"
   ]
  },
  {
   "cell_type": "code",
   "execution_count": 2,
   "metadata": {},
   "outputs": [],
   "source": [
    "def FundFactAPIGet(url, proj_unique_id, type, key):\n",
    "    if type == 'amc':\n",
    "        response = requests.get(url,headers=key)\n",
    "        if response.status_code == 200:\n",
    "            return json.loads(response.text)\n",
    "    elif type in ['project_type', 'specification', 'suitability']:\n",
    "        response = requests.get(url + proj_unique_id + '/' + type, headers=key)\n",
    "        if response.status_code == 200:\n",
    "            return {'json': json.loads(response.text), 'status_code': response.status_code}\n",
    "        else:\n",
    "            dummy_json = {key: None for key in project_type_keys} if type == 'project_type' else ({key: None for key in specification_keys} if type == 'specification' else {key: None for key in suitability_keys})\n",
    "            return {'json': dummy_json, 'status_code': response.status_code}"
   ]
  },
  {
   "cell_type": "code",
   "execution_count": 3,
   "metadata": {},
   "outputs": [],
   "source": [
    "response = FundFactAPIGet('https://api.sec.or.th/FundFactsheet/fund/amc',None, 'amc', FundFactKey)\n",
    "all_amc = pd.DataFrame(response)"
   ]
  },
  {
   "cell_type": "code",
   "execution_count": 4,
   "metadata": {},
   "outputs": [],
   "source": [
    "def getFirstAMCName(row):\n",
    "    name = row['name_en'].split()\n",
    "    return name[0]"
   ]
  },
  {
   "cell_type": "markdown",
   "metadata": {},
   "source": [
    "# Function to drop all df if proj_retail_type != R and write to new .CSV"
   ]
  },
  {
   "cell_type": "code",
   "execution_count": 5,
   "metadata": {},
   "outputs": [],
   "source": [
    "def cleanAMCData(row):\n",
    "    try:\n",
    "        name = getFirstAMCName(row)\n",
    "        df = pd.read_csv(f'../Result_amc/{name}/{name}_funds.csv')\n",
    "        df = df[df['proj_retail_type'] == 'R']\n",
    "        df.to_csv(f'../Result_amc/{name}/{name}_funds_clean.csv')\n",
    "    except Exception as e:\n",
    "        pass"
   ]
  },
  {
   "cell_type": "code",
   "execution_count": null,
   "metadata": {},
   "outputs": [],
   "source": [
    "all_amc.apply(lambda row: cleanAMCData(row), axis=1)"
   ]
  }
 ],
 "metadata": {
  "kernelspec": {
   "display_name": "Python 3",
   "language": "python",
   "name": "python3"
  },
  "language_info": {
   "codemirror_mode": {
    "name": "ipython",
    "version": 3
   },
   "file_extension": ".py",
   "mimetype": "text/x-python",
   "name": "python",
   "nbconvert_exporter": "python",
   "pygments_lexer": "ipython3",
   "version": "3.11.1"
  }
 },
 "nbformat": 4,
 "nbformat_minor": 2
}
