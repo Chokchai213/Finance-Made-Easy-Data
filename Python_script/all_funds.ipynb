{
 "cells": [
  {
   "cell_type": "markdown",
   "metadata": {},
   "source": [
    "# Get Data from each AMC"
   ]
  },
  {
   "cell_type": "code",
   "execution_count": null,
   "metadata": {},
   "outputs": [],
   "source": [
    "import requests\n",
    "import json\n",
    "import pandas as pd\n",
    "import os\n",
    "import dotenv\n",
    "import time\n",
    "import base64\n",
    "dotenv.load_dotenv()\n",
    "FDAPI = os.environ[\"FUND_DAILY_API_KEY\"]\n",
    "FFAPI = os.environ[\"FUND_FACT_API_KEY\"]\n",
    "FundDailyKey = {\n",
    "    'Ocp-Apim-Subscription-Key': FDAPI\n",
    "}\n",
    "FundFactKey = {\n",
    "    'Ocp-Apim-Subscription-Key': FFAPI\n",
    "}\n",
    "project_type_keys = ['proj_retail_type', 'proj_term_flag', 'proj_term_dd', 'proj_term_mm','proj_term_yy']\n",
    "specification_keys = ['spec_code', 'spec_desc']\n",
    "suitability_keys = ['risk_spectrum', 'risk_spectrum_desc','fund_suitable_desc']"
   ]
  },
  {
   "cell_type": "code",
   "execution_count": null,
   "metadata": {},
   "outputs": [],
   "source": [
    "def FundFactAPIGet(url, proj_unique_id, type, key):\n",
    "    if type == 'amc':\n",
    "        response = requests.get(url,headers=key)\n",
    "        if response.status_code == 200:\n",
    "            return json.loads(response.text)\n",
    "    elif type in ['project_type', 'specification', 'suitability']:\n",
    "        response = requests.get(url + proj_unique_id + '/' + type, headers=key)\n",
    "        if response.status_code == 200:\n",
    "            return {'json': json.loads(response.text), 'status_code': response.status_code}\n",
    "        else:\n",
    "            dummy_json = {key: None for key in project_type_keys} if type == 'project_type' else ({key: None for key in specification_keys} if type == 'specification' else {key: None for key in suitability_keys})\n",
    "            return {'json': dummy_json, 'status_code': response.status_code}"
   ]
  },
  {
   "cell_type": "code",
   "execution_count": null,
   "metadata": {},
   "outputs": [],
   "source": [
    "response = FundFactAPIGet('https://api.sec.or.th/FundFactsheet/fund/amc',None, 'amc', FundFactKey)\n",
    "all_amc = pd.DataFrame(json.loads(response.text))"
   ]
  },
  {
   "cell_type": "code",
   "execution_count": null,
   "metadata": {},
   "outputs": [],
   "source": [
    "for index_all, row_all in all_amc.iterrows():\n",
    "    response = requests.get(f'https://api.sec.or.th/FundFactsheet/fund/amc/{row_all[\"unique_id\"]}', headers=FundFactKey)\n",
    "    amc_proj = pd.DataFrame(json.loads(response.text))\n",
    "    amc_proj = amc_proj.drop(columns=['last_upd_date'])\n",
    "    amc_proj = amc_proj[amc_proj['fund_status'] == 'RG']\n",
    "    amc_proj = amc_proj.reset_index(drop=True)\n",
    "    if not len(amc_proj.index) == 0:\n",
    "        for index_amc_proj, row_amc_proj in amc_proj.iterrows():\n",
    "                try:\n",
    "                    response = FundFactAPIGet('https://api.sec.or.th/FundFactsheet/fund/',str(row_amc_proj['proj_id']),'project_type',FundFactKey)\n",
    "                    amc_proj.at[index_amc_proj, 'proj_retail_type'] = response['json']['proj_retail_type']\n",
    "                    amc_proj.at[index_amc_proj, 'proj_term_flag'] = response['json']['proj_term_flag']\n",
    "                    amc_proj.at[index_amc_proj, 'proj_term_dd'] = response['json']['proj_term_dd']\n",
    "                    amc_proj.at[index_amc_proj, 'proj_term_mm'] = response['json']['proj_term_mm']\n",
    "                    amc_proj.at[index_amc_proj, 'proj_term_yy'] = response['json']['proj_term_yy']\n",
    "                except Exception as e:\n",
    "                    pass\n",
    "                try:\n",
    "                    response = FundFactAPIGet('https://api.sec.or.th/FundFactsheet/fund/',str(row_amc_proj['proj_id']),'specification',FundFactKey)\n",
    "                    try:\n",
    "                        amc_proj.at[index_amc_proj, 'spec_code'] =  ','.join(sub_res['spec_code'] for sub_res in response['json'])\n",
    "                    except Exception as e:\n",
    "                        pass\n",
    "                    try:\n",
    "                        amc_proj.at[index_amc_proj, 'spec_desc'] =  ','.join(sub_res['spec_desc'] for sub_res in response['json']) \n",
    "                    except Exception as e:\n",
    "                        pass\n",
    "                except Exception as e:\n",
    "                    pass\n",
    "                try:\n",
    "                    response = FundFactAPIGet('https://api.sec.or.th/FundFactsheet/fund/',str(row_amc_proj['proj_id']),'suitability',FundFactKey)\n",
    "                    amc_proj.at[index_amc_proj, 'risk_spectrum'] = response['json']['risk_spectrum']\n",
    "                    try:\n",
    "                        amc_proj.at[index_amc_proj, 'risk_spectrum_desc'] = base64.b64decode(response['json']['risk_spectrum_desc']).decode('utf-8')\n",
    "                    except Exception as e:\n",
    "                        amc_proj.at[index_amc_proj, 'risk_spectrum_desc'] = None\n",
    "                    try:\n",
    "                        amc_proj.at[index_amc_proj, 'fund_suitable_desc'] = base64.b64decode(response['json']['fund_suitable_desc']).decode('utf-8')\n",
    "                    except Exception as e:\n",
    "                        amc_proj.at[index_amc_proj, 'fund_suitable_desc'] = None\n",
    "                except Exception as e:\n",
    "                    pass\n",
    "                time.sleep(0.1)\n",
    "        amc_name = row_all['name_en'].split()\n",
    "        os.mkdir(f'../Result_amc/{amc_name[0]}')\n",
    "        amc_proj.to_csv(f'../Result_amc/{amc_name[0]}/{amc_name[0]}_funds.csv', encoding='utf8')"
   ]
  },
  {
   "cell_type": "code",
   "execution_count": null,
   "metadata": {},
   "outputs": [],
   "source": []
  }
 ],
 "metadata": {
  "kernelspec": {
   "display_name": "Python 3",
   "language": "python",
   "name": "python3"
  },
  "language_info": {
   "codemirror_mode": {
    "name": "ipython",
    "version": 3
   },
   "file_extension": ".py",
   "mimetype": "text/x-python",
   "name": "python",
   "nbconvert_exporter": "python",
   "pygments_lexer": "ipython3",
   "version": "3.10.6"
  }
 },
 "nbformat": 4,
 "nbformat_minor": 2
}
