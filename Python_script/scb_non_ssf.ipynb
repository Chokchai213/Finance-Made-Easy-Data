{
 "cells": [
  {
   "cell_type": "code",
   "execution_count": null,
   "metadata": {},
   "outputs": [],
   "source": [
    "import requests\n",
    "import json\n",
    "import pandas as pd\n",
    "\n",
    "headers1 = {\n",
    "    # Request headers of fund daily info\n",
    "    'Ocp-Apim-Subscription-Key': 'c1714d1753d5947f5b8f6f3cb67354d1d'\n",
    "}\n",
    "\n",
    "headers2 = {\n",
    "    # Request headers of fund fact sheet\n",
    "    'Ocp-Apim-Subscription-Key': '89cbe200e6ee4afca33f6e2122aa5e82'\n",
    "}"
   ]
  },
  {
   "cell_type": "code",
   "execution_count": null,
   "metadata": {},
   "outputs": [],
   "source": [
    "response = requests.get(f'https://api.sec.or.th/FundFactsheet/fund/amc/C0000000239', headers = headers2)\n",
    "status = json.loads(response.text)\n",
    "status_df = pd.DataFrame(status)\n",
    "status_df_use = status_df[['proj_id','cancel_date','fund_status','proj_abbr_name','proj_name_en']]\n",
    "status_df_use"
   ]
  },
  {
   "cell_type": "code",
   "execution_count": null,
   "metadata": {},
   "outputs": [],
   "source": [
    "import pandas as pd\n",
    "SCB_amc_data = pd.DataFrame(columns = ['proj_id','risk_spectrum','spec_code','amc','name_th','proj_retail_type'])\n",
    "file = pd.read_csv('./amc_data/SCB_amc_data/SCB_AMC_DATA.csv')\n",
    "file['amc'] =  'C0000000239'\n",
    "file['name_th'] = 'บริษัท หลักทรัพย์จัดการกองทุนไทยพาณิชย์ จำกัด'\n",
    "SCB_amc_data = pd.concat([SCB_amc_data,file])\n",
    "SCB_amc_data_clean = SCB_amc_data.dropna(subset=['spec_code','proj_retail_type'])\n",
    "SCB_amc_data_clean.drop(SCB_amc_data_clean[SCB_amc_data_clean['proj_retail_type'] != 'R'].index, inplace = True)\n",
    "SCB_amc_no_rmf_ssf = SCB_amc_data_clean[~(SCB_amc_data_clean['spec_code'].str.contains('RMF', case=False, na=False) | SCB_amc_data_clean['spec_code'].str.contains('SSF', case=False, na=False))]\n",
    "len(SCB_amc_no_rmf_ssf)"
   ]
  },
  {
   "cell_type": "code",
   "execution_count": null,
   "metadata": {},
   "outputs": [],
   "source": [
    "SCB_amc_no_rmf_ssf = SCB_amc_no_rmf_ssf.reset_index()\n",
    "SCB_amc_no_rmf_ssf.drop(columns=['index'])\n",
    "SCB_amc_no_rmf_ssf"
   ]
  },
  {
   "cell_type": "code",
   "execution_count": null,
   "metadata": {},
   "outputs": [],
   "source": [
    "SCB_amc_no_rmf_ssf = pd.merge(SCB_amc_no_rmf_ssf, status_df_use, on='proj_id')\n",
    "SCB_amc_no_rmf_ssf"
   ]
  },
  {
   "cell_type": "code",
   "execution_count": null,
   "metadata": {},
   "outputs": [],
   "source": [
    "SCB_amc_no_rmf_ssf = SCB_amc_no_rmf_ssf.drop(SCB_amc_no_rmf_ssf[SCB_amc_no_rmf_ssf[\"cancel_date\"]!=\"-\"].index)\n",
    "SCB_amc_no_rmf_ssf = SCB_amc_no_rmf_ssf.drop(SCB_amc_no_rmf_ssf[SCB_amc_no_rmf_ssf[\"fund_status\"]==\"EX\"].index)\n",
    "SCB_amc_no_rmf_ssf"
   ]
  },
  {
   "cell_type": "code",
   "execution_count": null,
   "metadata": {},
   "outputs": [],
   "source": [
    "SCB_amc_no_rmf_ssf = SCB_amc_no_rmf_ssf.reset_index()"
   ]
  },
  {
   "cell_type": "code",
   "execution_count": null,
   "metadata": {},
   "outputs": [],
   "source": [
    "SCB_amc_no_rmf_ssf = SCB_amc_no_rmf_ssf.drop(columns=['level_0','index'])\n",
    "SCB_amc_no_rmf_ssf"
   ]
  },
  {
   "cell_type": "code",
   "execution_count": null,
   "metadata": {},
   "outputs": [],
   "source": [
    "import re\n",
    "import pdfbox\n",
    "import os\n",
    "from IPython.display import clear_output\n",
    "p = pdfbox.PDFBox()\n",
    "not_screenable = []\n",
    "max_len = len(SCB_amc_no_rmf_ssf)\n",
    "for index, row in SCB_amc_no_rmf_ssf.iterrows():\n",
    "        response = requests.get(f'https://api.sec.or.th/FundFactsheet/fund/{row[\"proj_id\"]}/URLs',headers=headers2)\n",
    "        res_text = json.loads(response.text)\n",
    "        res_pdf = requests.get(res_text['url_factsheet'])\n",
    "        with open(f\"tmp/tmp.pdf\", 'wb') as pdf_file:\n",
    "                pdf_file.write(res_pdf.content)\n",
    "        try:\n",
    "                print(str(index+1) + ' of ' + str(max_len) +' '+ str(round(((index+1)/max_len)*100,2))+' % Completed' )\n",
    "                if os.path.getsize(\"tmp/tmp.pdf\") < 216:\n",
    "                        raise Exception(\"File not found ::\") \n",
    "                p.extract_text(f'tmp/tmp.pdf')\n",
    "                with open(f'tmp/tmp.txt', 'r',  encoding=\"utf8\") as file:\n",
    "                        data = file.read()\n",
    "                match1 = re.search(r'(\\S+)\\s*:\\s*เสี่ยง', data)\n",
    "                match2 = re.search(r'(\\S+)\\s*:\\s*เสียง', data)\n",
    "                match3 = re.search(r'(\\S+)\\s*:\\s*เสยง', data)\n",
    "                if match1:\n",
    "                        number_before_string = match1.group(1)\n",
    "                        SCB_amc_no_rmf_ssf.at[index, 'risk_spectrum'] = number_before_string\n",
    "                elif match2:\n",
    "                        number_before_string = match2.group(1)\n",
    "                        SCB_amc_no_rmf_ssf.at[index, 'risk_spectrum'] = number_before_string\n",
    "                elif match3:\n",
    "                        number_before_string = match3.group(1)\n",
    "                        SCB_amc_no_rmf_ssf.at[index, 'risk_spectrum'] = number_before_string\n",
    "                else:\n",
    "                        print(\"Pattern not found on \"+ row[\"proj_id\"])\n",
    "                        not_screenable.append(row[\"proj_id\"])\n",
    "                clear_output(wait=True)\n",
    "        except Exception as e:\n",
    "                print(str(e) +' Error found on '+ row['proj_id'])\n",
    "                "
   ]
  },
  {
   "cell_type": "code",
   "execution_count": null,
   "metadata": {},
   "outputs": [],
   "source": [
    "not_screenable"
   ]
  },
  {
   "cell_type": "code",
   "execution_count": null,
   "metadata": {},
   "outputs": [],
   "source": [
    "for proj_id in not_screenable:\n",
    "        response = requests.get(f'https://api.sec.or.th/FundFactsheet/fund/{proj_id}/URLs',headers=headers2)\n",
    "        res_text = json.loads(response.text)\n",
    "        res_pdf = requests.get(res_text['url_factsheet'])\n",
    "        with open(f\"tmp/{proj_id}.pdf\", 'wb') as pdf_file:\n",
    "                pdf_file.write(res_pdf.content)"
   ]
  },
  {
   "cell_type": "code",
   "execution_count": null,
   "metadata": {},
   "outputs": [],
   "source": [
    "SCB_amc_no_rmf_ssf"
   ]
  },
  {
   "cell_type": "code",
   "execution_count": null,
   "metadata": {},
   "outputs": [],
   "source": [
    "SCB_amc_no_rmf_ssf_nan = SCB_amc_no_rmf_ssf[SCB_amc_no_rmf_ssf.isna().any(axis=1)]\n",
    "SCB_amc_no_rmf_ssf_nan"
   ]
  },
  {
   "cell_type": "code",
   "execution_count": null,
   "metadata": {},
   "outputs": [],
   "source": [
    "SCB_amc_no_rmf_ssf = SCB_amc_no_rmf_ssf.dropna()\n",
    "SCB_amc_no_rmf_ssf"
   ]
  },
  {
   "cell_type": "code",
   "execution_count": null,
   "metadata": {},
   "outputs": [],
   "source": [
    "SCB_amc_no_rmf_ssf_nan"
   ]
  },
  {
   "cell_type": "code",
   "execution_count": null,
   "metadata": {},
   "outputs": [],
   "source": [
    "#read manually\n",
    "risk_list = ['8','3','3','3','8','3','3','8']\n",
    "SCB_amc_no_rmf_ssf_nan.loc[SCB_amc_no_rmf_ssf_nan['risk_spectrum'].isna(), 'risk_spectrum'] = risk_list\n",
    "SCB_amc_no_rmf_ssf_nan"
   ]
  },
  {
   "cell_type": "code",
   "execution_count": null,
   "metadata": {},
   "outputs": [],
   "source": [
    "result_SCB_amc_no_rmf_ssf = pd.concat([SCB_amc_no_rmf_ssf, SCB_amc_no_rmf_ssf_nan], ignore_index=True)"
   ]
  },
  {
   "cell_type": "code",
   "execution_count": null,
   "metadata": {},
   "outputs": [],
   "source": [
    "result_SCB_amc_no_rmf_ssf"
   ]
  },
  {
   "cell_type": "code",
   "execution_count": null,
   "metadata": {},
   "outputs": [],
   "source": [
    "result_SCB_amc_no_rmf_ssf['proj_id'].nunique()"
   ]
  },
  {
   "cell_type": "code",
   "execution_count": null,
   "metadata": {},
   "outputs": [],
   "source": [
    "result_SCB_amc_no_rmf_ssf.to_csv('../Result_amc/SCB/SCB_NON_RMF_SSF.csv', encoding='utf8')"
   ]
  },
  {
   "cell_type": "code",
   "execution_count": null,
   "metadata": {},
   "outputs": [],
   "source": []
  }
 ],
 "metadata": {
  "kernelspec": {
   "display_name": "Python 3",
   "language": "python",
   "name": "python3"
  },
  "language_info": {
   "codemirror_mode": {
    "name": "ipython",
    "version": 3
   },
   "file_extension": ".py",
   "mimetype": "text/x-python",
   "name": "python",
   "nbconvert_exporter": "python",
   "pygments_lexer": "ipython3",
   "version": "3.10.10"
  }
 },
 "nbformat": 4,
 "nbformat_minor": 2
}
