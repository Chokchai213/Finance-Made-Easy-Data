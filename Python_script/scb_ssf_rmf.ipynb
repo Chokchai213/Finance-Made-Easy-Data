{
 "cells": [
  {
   "cell_type": "code",
   "execution_count": null,
   "metadata": {},
   "outputs": [],
   "source": [
    "import requests\n",
    "import json\n",
    "import pandas as pd\n",
    "headers1 = {\n",
    "    # Request headers of fund daily info\n",
    "    'Ocp-Apim-Subscription-Key': 'c1714d1753d5947f5b8f6f3cb67354d1d'\n",
    "}\n",
    "headers2 = {\n",
    "    # Request headers of fund fact sheet\n",
    "    'Ocp-Apim-Subscription-Key': '89cbe200e6ee4afca33f6e2122aa5e82'\n",
    "}"
   ]
  },
  {
   "cell_type": "code",
   "execution_count": null,
   "metadata": {},
   "outputs": [],
   "source": [
    "os.environ[\"FUND_FACT_KEY\"]"
   ]
  },
  {
   "cell_type": "code",
   "execution_count": null,
   "metadata": {},
   "outputs": [],
   "source": []
  }
 ],
 "metadata": {
  "kernelspec": {
   "display_name": "Python 3",
   "language": "python",
   "name": "python3"
  },
  "language_info": {
   "codemirror_mode": {
    "name": "ipython",
    "version": 3
   },
   "file_extension": ".py",
   "mimetype": "text/x-python",
   "name": "python",
   "nbconvert_exporter": "python",
   "pygments_lexer": "ipython3",
   "version": "3.11.1"
  }
 },
 "nbformat": 4,
 "nbformat_minor": 2
}
